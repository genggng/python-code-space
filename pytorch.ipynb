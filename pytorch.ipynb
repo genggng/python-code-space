{
 "cells": [
  {
   "cell_type": "markdown",
   "metadata": {},
   "source": [
    "### nn.Module.register_buffer and nn.Parameters\n",
    "nn.Module.register_buffer特性：\n",
    "1. 不会产生梯度require_grad = False\n",
    "2. 不会注册到模型参数中model.parameters()\n",
    "3. 会注册到模型model.state_dict()中。"
   ]
  },
  {
   "cell_type": "code",
   "execution_count": 1,
   "metadata": {},
   "outputs": [],
   "source": [
    "import torch"
   ]
  },
  {
   "cell_type": "code",
   "execution_count": null,
   "metadata": {},
   "outputs": [],
   "source": [
    "# 将需要保存到state_dict的变量定义为register_buffer，比如说量化参数。（见quantization.ipynb:QParam）\n",
    "self.register_buffer('scale', torch.tensor([], requires_grad=False))  \n",
    "self.register_buffer('zero_point', torch.tensor([], requires_grad=False))\n",
    "self.register_buffer('min', torch.tensor([], requires_grad=False))\n",
    "self.register_buffer('max', torch.tensor([], requires_grad=False))\n",
    "\n",
    "# 对于需要在设备之间转移的变量，必须将其注册为nn.Parameter 或者 buffer，比如说self.M(见quantization.ipynb:QConv2d:freeze)\n",
    "self.register_buffer('M', torch.tensor([], requires_grad=False))\n",
    "self.M.data = (self.qw.scale*self.qi.scale / self.qo.scale).data  #赋值tensor而不是对象本身\n"
   ]
  },
  {
   "cell_type": "markdown",
   "metadata": {},
   "source": []
  },
  {
   "cell_type": "code",
   "execution_count": null,
   "metadata": {},
   "outputs": [],
   "source": []
  }
 ],
 "metadata": {
  "kernelspec": {
   "display_name": "Python 3.8.13 ('ppq')",
   "language": "python",
   "name": "python3"
  },
  "language_info": {
   "codemirror_mode": {
    "name": "ipython",
    "version": 3
   },
   "file_extension": ".py",
   "mimetype": "text/x-python",
   "name": "python",
   "nbconvert_exporter": "python",
   "pygments_lexer": "ipython3",
   "version": "3.8.13"
  },
  "orig_nbformat": 4,
  "vscode": {
   "interpreter": {
    "hash": "e1f49b93815805eca9ccc5299d655a62f3a8d0678e274dc3dfeb518f21176dcd"
   }
  }
 },
 "nbformat": 4,
 "nbformat_minor": 2
}
