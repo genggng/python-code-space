{
 "cells": [
  {
   "cell_type": "markdown",
   "metadata": {},
   "source": [
    "### nn.Module.register_buffer and nn.Parameters\n",
    "nn.Module.register_buffer特性：\n",
    "1. 不会产生梯度require_grad = False\n",
    "2. 不会注册到模型参数中model.parameters()\n",
    "3. 会注册到模型model.state_dict()中。"
   ]
  },
  {
   "cell_type": "code",
   "execution_count": 1,
   "metadata": {},
   "outputs": [],
   "source": [
    "import torch\n",
    "import torchvision"
   ]
  },
  {
   "cell_type": "code",
   "execution_count": null,
   "metadata": {},
   "outputs": [],
   "source": [
    "# 将需要保存到state_dict的变量定义为register_buffer，比如说量化参数。（见quantization.ipynb:QParam）\n",
    "self.register_buffer('scale', torch.tensor([], requires_grad=False))  \n",
    "self.register_buffer('zero_point', torch.tensor([], requires_grad=False))\n",
    "self.register_buffer('min', torch.tensor([], requires_grad=False))\n",
    "self.register_buffer('max', torch.tensor([], requires_grad=False))\n",
    "\n",
    "# 对于需要在设备之间转移的变量，需要时nn.Module的子类，所以必须将其注册为nn.Parameter 或者 buffer，比如说self.M(见quantization.ipynb:QConv2d:freeze)\n",
    "self.register_buffer('M', torch.tensor([], requires_grad=False))\n",
    "self.M.data = (self.qw.scale*self.qi.scale / self.qo.scale).data  #赋值tensor而不是对象本身\n"
   ]
  },
  {
   "cell_type": "markdown",
   "metadata": {},
   "source": [
    "### device"
   ]
  },
  {
   "cell_type": "markdown",
   "metadata": {},
   "source": [
    "在设备之间转移模型和数据"
   ]
  },
  {
   "cell_type": "code",
   "execution_count": 14,
   "metadata": {},
   "outputs": [
    {
     "name": "stdout",
     "output_type": "stream",
     "text": [
      "data's device:cpu,model's device:cpu\n",
      "data's device: cuda:0\n",
      "model's device: cuda:0\n"
     ]
    }
   ],
   "source": [
    "data = torch.zeros(1,2)\n",
    "model = torchvision.models.resnet18()\n",
    "\n",
    "# 模型所在的设备，需要查看其参数所在的设备\n",
    "print(\"data's device:{},model's device:{}\".format(data.device,next(model.parameters()).device))\n",
    "\n",
    "# 将数据进行转移，必须使用赋值\n",
    "data = data.cuda()\n",
    "data = data.to(\"cuda\")\n",
    "\n",
    "# data.cuda()  #error! tensor只使用这句是不够的\n",
    "print(\"data's device:\",data.device)\n",
    "\n",
    "# 将model转移到cuda,不需要赋值，赋值也可以\n",
    "model.cuda()\n",
    "model.to(\"cuda\")\n",
    "model = model.cuda()\n",
    "model = model.to(\"cuda\")\n",
    "print(\"model's device:\",next(model.parameters()).device)"
   ]
  },
  {
   "cell_type": "markdown",
   "metadata": {},
   "source": [
    "指定使用的显卡\n",
    "在shell 环境中\n",
    "```shell\n",
    "CUDA_VISIBLE_DEVICES=\"1,2\" python train.py\n",
    "```"
   ]
  },
  {
   "cell_type": "code",
   "execution_count": null,
   "metadata": {},
   "outputs": [],
   "source": [
    "# 在python代码中\n",
    "import os \n",
    "os.environ['CUDA_VISIBLE_DEVICES'] = \"1,2\"\n"
   ]
  },
  {
   "cell_type": "markdown",
   "metadata": {},
   "source": [
    "### Pytorch->onnx"
   ]
  },
  {
   "cell_type": "code",
   "execution_count": null,
   "metadata": {},
   "outputs": [],
   "source": [
    "import torch.onnx \n",
    "\n",
    "#Function to Convert to ONNX \n",
    "def Convert_ONNX(): \n",
    "\n",
    "    # set the model to inference mode \n",
    "    model.eval() \n",
    "\n",
    "    # Let's create a dummy input tensor  \n",
    "    input_size = (3,224,224)\n",
    "    dummy_input = torch.randn(1, *input_size, requires_grad=True)  \n",
    "\n",
    "    # Export the model   \n",
    "    torch.onnx.export(model,         # model being run \n",
    "         dummy_input,       # model input (or a tuple for multiple inputs) \n",
    "         \"resnet18.onnx\",       # where to save the model  \n",
    "         export_params=True,  # store the trained parameter weights inside the model file \n",
    "         opset_version=10,    # the ONNX version to export the model to \n",
    "         do_constant_folding=True,  # whether to execute constant folding for optimization \n",
    "         input_names = ['input'],   # the model's input names \n",
    "         output_names = ['output'], # the model's output names \n",
    "         dynamic_axes={'input' : {0 : 'batch_size'},    # variable length axes \n",
    "                                'output' : {0 : 'batch_size'}}) \n",
    "    print(\" \") \n",
    "    print('Model has been converted to ONNX') \n",
    "Convert_ONNX()"
   ]
  },
  {
   "cell_type": "markdown",
   "metadata": {},
   "source": [
    "使用onnxsim对onnx模型进行简化，安装方式：\n",
    "```shell\n",
    "pip install onnxsim\n",
    "```\n",
    "有两种执行方式：\n",
    "1. 在终端执行\n",
    "```shell\n",
    "onnxsim old.onnx sim.onnx\n",
    "```\n",
    "2. 在python代码中\n"
   ]
  },
  {
   "cell_type": "code",
   "execution_count": null,
   "metadata": {},
   "outputs": [],
   "source": [
    "onnx_model = onnx.load(f'{os.path.join(cfg.FP32_BASE_PATH, name)}-FP32.onnx') \n",
    "model_simp, check = simplify(onnx_model)   #对onnx模型进行简化，消除冗余算子        \n",
    "assert check, \"Simplified ONNX model could not be validated\"\n",
    "onnx.save(model_simp, f'{os.path.join(cfg.FP32_BASE_PATH, name)}-FP32.onnx')"
   ]
  }
 ],
 "metadata": {
  "kernelspec": {
   "display_name": "Python 3.8.13 ('ppq')",
   "language": "python",
   "name": "python3"
  },
  "language_info": {
   "codemirror_mode": {
    "name": "ipython",
    "version": 3
   },
   "file_extension": ".py",
   "mimetype": "text/x-python",
   "name": "python",
   "nbconvert_exporter": "python",
   "pygments_lexer": "ipython3",
   "version": "3.8.13"
  },
  "orig_nbformat": 4,
  "vscode": {
   "interpreter": {
    "hash": "e1f49b93815805eca9ccc5299d655a62f3a8d0678e274dc3dfeb518f21176dcd"
   }
  }
 },
 "nbformat": 4,
 "nbformat_minor": 2
}
